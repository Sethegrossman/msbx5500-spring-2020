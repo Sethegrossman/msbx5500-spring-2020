{
 "cells": [
  {
   "cell_type": "markdown",
   "metadata": {},
   "source": [
    "# Predicting Credit Card Fraud"
   ]
  },
  {
   "cell_type": "markdown",
   "metadata": {},
   "source": [
    "##### First, import data manipulation tools"
   ]
  },
  {
   "cell_type": "code",
   "execution_count": null,
   "metadata": {},
   "outputs": [],
   "source": [
    "from sklearn.datasets import fetch_openml\n",
    "import numpy as np\n",
    "import pandas as pd"
   ]
  },
  {
   "cell_type": "markdown",
   "metadata": {},
   "source": [
    "##### Then process the data\n",
    "Import it into a Panda's dataframe. The code below is transferable and will run without the need for downloading the dataset. The only difficulty is one must make sure their scikit learn is updated. If using Anaconda go to Anaconda prompt and type: `pip install -U scikit-learn`"
   ]
  },
  {
   "cell_type": "code",
   "execution_count": null,
   "metadata": {
    "scrolled": true
   },
   "outputs": [],
   "source": [
    "from sklearn.datasets import fetch_openml\n",
    "\n",
    "x, Y = fetch_openml(data_id='42175', return_X_y=True) # dataset hosted , data_id taken from the url\n",
    "x.shape\n",
    "\n",
    "# use `as_frame` argument to get a pandas dataframe\n",
    "data, target = fetch_openml(data_id='42175', return_X_y=True, as_frame=True)\n",
    "print(\"pandas df colnames: {}\".format(data.columns))"
   ]
  },
  {
   "cell_type": "code",
   "execution_count": null,
   "metadata": {},
   "outputs": [],
   "source": [
    "from sklearn.model_selection import train_test_split\n",
    "X_train, X_test, y_train, y_test = train_test_split(x, Y, test_size=0.2, random_state=42)\n"
   ]
  },
  {
   "cell_type": "code",
   "execution_count": null,
   "metadata": {},
   "outputs": [],
   "source": [
    "from sklearn import preprocessing\n",
    "X_train = preprocessing.scale(X_train)\n",
    "X_test = preprocessing.scale(X_test)\n"
   ]
  },
  {
   "cell_type": "code",
   "execution_count": null,
   "metadata": {},
   "outputs": [],
   "source": [
    "from sklearn import svm\n",
    "clf1 = svm.SVR()\n",
    "clf1.fit(X_train, y_train)\n",
    "#clf.predict(X_test, y_test)\n",
    "y_score1 = clf1.predict_proba(X_test)[:,1]"
   ]
  },
  {
   "cell_type": "code",
   "execution_count": null,
   "metadata": {},
   "outputs": [],
   "source": [
    "from sklearn.linear_model import LogisticRegression\n",
    "logisticRegress = logisticRegression()\n",
    "logisticRegress.fit(X_train, y_train)\n",
    "y_score2 = logisticRegress.predict_proba(X_test)[:1]"
   ]
  },
  {
   "cell_type": "code",
   "execution_count": null,
   "metadata": {},
   "outputs": [],
   "source": [
    "from sklearn import tree\n",
    "tree = tree.DecisionTreeClassifier()\n",
    "tree = tree.fit(X_train, y_train)\n",
    "y_score3 = tree.predict_proba(X_test)[:1]\n"
   ]
  },
  {
   "cell_type": "code",
   "execution_count": null,
   "metadata": {},
   "outputs": [],
   "source": [
    "from sklearn.metrics import precision_recall_curve\n",
    "from sklearn.metrics import plot_precision_recall_curve\n",
    "import matplotlib.pyplot as plt\n",
    "\n",
    "roc_auc1 = roc_auc_score(y_test, y_score1)\n",
    "\n",
    "precision, recall, thresholds = precision_recall_curve(y_test, y_score1)\n",
    "pr_auc = auc(recall, precision)\n",
    "precision_recall_things.append((recall, precision, thresholds, '{} AUC: {:.3f}'))\n",
    "plot_precision_recall_curve(clf1, X_test, y_test)"
   ]
  },
  {
   "cell_type": "code",
   "execution_count": null,
   "metadata": {},
   "outputs": [],
   "source": [
    "roc_auc2 = roc_auc_score(y_test, y_score2)\n",
    "\n",
    "precision, recall, thresholds = precision_recall_curve(y_test, y_score2)\n",
    "pr_auc = auc(recall, precision)\n",
    "precision_recall_things.append((recall, precision, thresholds, '{} AUC: {:.3f}'))\n",
    "plot_precision_recall_curve(logisticRegress, X_test, y_test)"
   ]
  },
  {
   "cell_type": "code",
   "execution_count": null,
   "metadata": {},
   "outputs": [],
   "source": [
    "roc_auc3 = roc_auc_score(y_test, y_score3)\n",
    "\n",
    "precision, recall, thresholds = precision_recall_curve(y_test, y_score3)\n",
    "pr_auc = auc(recall, precision)\n",
    "precision_recall_things.append((recall, precision, thresholds, '{} AUC: {:.3f}'))\n",
    "plot_precision_recall_curve(tree, X_test, y_test)"
   ]
  }
 ],
 "metadata": {
  "kernelspec": {
   "display_name": "Python 3",
   "language": "python",
   "name": "python3"
  },
  "language_info": {
   "codemirror_mode": {
    "name": "ipython",
    "version": 3
   },
   "file_extension": ".py",
   "mimetype": "text/x-python",
   "name": "python",
   "nbconvert_exporter": "python",
   "pygments_lexer": "ipython3",
   "version": "3.7.4"
  }
 },
 "nbformat": 4,
 "nbformat_minor": 2
}
