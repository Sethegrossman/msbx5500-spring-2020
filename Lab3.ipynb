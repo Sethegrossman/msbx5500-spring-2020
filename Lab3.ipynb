{
 "cells": [
  {
   "cell_type": "markdown",
   "metadata": {},
   "source": [
    "# Predicting Credit Card Fraud"
   ]
  },
  {
   "cell_type": "markdown",
   "metadata": {},
   "source": [
    "##### First, import data manipulation tools"
   ]
  },
  {
   "cell_type": "code",
   "execution_count": 57,
   "metadata": {},
   "outputs": [],
   "source": [
    "from sklearn.datasets import fetch_openml\n",
    "import numpy as np\n",
    "import pandas as pd"
   ]
  },
  {
   "cell_type": "markdown",
   "metadata": {},
   "source": [
    "##### Then process the data\n",
    "Import it into a Panda's dataframe. The code below is transferable and will run without the need for downloading the dataset. The only difficulty is one must make sure their scikit learn is updated. If using Anaconda go to Anaconda prompt and type: `pip install -U scikit-learn`"
   ]
  },
  {
   "cell_type": "code",
   "execution_count": 58,
   "metadata": {
    "scrolled": true
   },
   "outputs": [
    {
     "name": "stdout",
     "output_type": "stream",
     "text": [
      "pandas df colnames: Index(['Time', 'V1', 'V2', 'V3', 'V4', 'V5', 'V6', 'V7', 'V8', 'V9', 'V10',\n",
      "       'V11', 'V12', 'V13', 'V14', 'V15', 'V16', 'V17', 'V18', 'V19', 'V20',\n",
      "       'V21', 'V22', 'V23', 'V24', 'V25', 'V26', 'V27', 'V28', 'Amount'],\n",
      "      dtype='object')\n"
     ]
    }
   ],
   "source": [
    "from sklearn.datasets import fetch_openml\n",
    "\n",
    "# use `as_frame` argument to get a pandas dataframe\n",
    "X, y = fetch_openml(data_id='42175', return_X_y=True, as_frame=True)\n",
    "print(\"pandas df colnames: {}\".format(X.columns))"
   ]
  },
  {
   "cell_type": "code",
   "execution_count": 59,
   "metadata": {},
   "outputs": [
    {
     "data": {
      "text/html": [
       "<div>\n",
       "<style scoped>\n",
       "    .dataframe tbody tr th:only-of-type {\n",
       "        vertical-align: middle;\n",
       "    }\n",
       "\n",
       "    .dataframe tbody tr th {\n",
       "        vertical-align: top;\n",
       "    }\n",
       "\n",
       "    .dataframe thead th {\n",
       "        text-align: right;\n",
       "    }\n",
       "</style>\n",
       "<table border=\"1\" class=\"dataframe\">\n",
       "  <thead>\n",
       "    <tr style=\"text-align: right;\">\n",
       "      <th></th>\n",
       "      <th>Time</th>\n",
       "      <th>V1</th>\n",
       "      <th>V2</th>\n",
       "      <th>V3</th>\n",
       "      <th>V4</th>\n",
       "      <th>V5</th>\n",
       "      <th>V6</th>\n",
       "      <th>V7</th>\n",
       "      <th>V8</th>\n",
       "      <th>V9</th>\n",
       "      <th>...</th>\n",
       "      <th>V20</th>\n",
       "      <th>V21</th>\n",
       "      <th>V22</th>\n",
       "      <th>V23</th>\n",
       "      <th>V24</th>\n",
       "      <th>V25</th>\n",
       "      <th>V26</th>\n",
       "      <th>V27</th>\n",
       "      <th>V28</th>\n",
       "      <th>Amount</th>\n",
       "    </tr>\n",
       "  </thead>\n",
       "  <tbody>\n",
       "    <tr>\n",
       "      <td>0</td>\n",
       "      <td>0.0</td>\n",
       "      <td>-1.359807</td>\n",
       "      <td>-0.072781</td>\n",
       "      <td>2.536347</td>\n",
       "      <td>1.378155</td>\n",
       "      <td>-0.338321</td>\n",
       "      <td>0.462388</td>\n",
       "      <td>0.239599</td>\n",
       "      <td>0.098698</td>\n",
       "      <td>0.363787</td>\n",
       "      <td>...</td>\n",
       "      <td>0.251412</td>\n",
       "      <td>-0.018307</td>\n",
       "      <td>0.277838</td>\n",
       "      <td>-0.110474</td>\n",
       "      <td>0.066928</td>\n",
       "      <td>0.128539</td>\n",
       "      <td>-0.189115</td>\n",
       "      <td>0.133558</td>\n",
       "      <td>-0.021053</td>\n",
       "      <td>149.62</td>\n",
       "    </tr>\n",
       "    <tr>\n",
       "      <td>1</td>\n",
       "      <td>0.0</td>\n",
       "      <td>1.191857</td>\n",
       "      <td>0.266151</td>\n",
       "      <td>0.166480</td>\n",
       "      <td>0.448154</td>\n",
       "      <td>0.060018</td>\n",
       "      <td>-0.082361</td>\n",
       "      <td>-0.078803</td>\n",
       "      <td>0.085102</td>\n",
       "      <td>-0.255425</td>\n",
       "      <td>...</td>\n",
       "      <td>-0.069083</td>\n",
       "      <td>-0.225775</td>\n",
       "      <td>-0.638672</td>\n",
       "      <td>0.101288</td>\n",
       "      <td>-0.339846</td>\n",
       "      <td>0.167170</td>\n",
       "      <td>0.125895</td>\n",
       "      <td>-0.008983</td>\n",
       "      <td>0.014724</td>\n",
       "      <td>2.69</td>\n",
       "    </tr>\n",
       "    <tr>\n",
       "      <td>2</td>\n",
       "      <td>1.0</td>\n",
       "      <td>-1.358354</td>\n",
       "      <td>-1.340163</td>\n",
       "      <td>1.773209</td>\n",
       "      <td>0.379780</td>\n",
       "      <td>-0.503198</td>\n",
       "      <td>1.800499</td>\n",
       "      <td>0.791461</td>\n",
       "      <td>0.247676</td>\n",
       "      <td>-1.514654</td>\n",
       "      <td>...</td>\n",
       "      <td>0.524980</td>\n",
       "      <td>0.247998</td>\n",
       "      <td>0.771679</td>\n",
       "      <td>0.909412</td>\n",
       "      <td>-0.689281</td>\n",
       "      <td>-0.327642</td>\n",
       "      <td>-0.139097</td>\n",
       "      <td>-0.055353</td>\n",
       "      <td>-0.059752</td>\n",
       "      <td>378.66</td>\n",
       "    </tr>\n",
       "    <tr>\n",
       "      <td>3</td>\n",
       "      <td>1.0</td>\n",
       "      <td>-0.966272</td>\n",
       "      <td>-0.185226</td>\n",
       "      <td>1.792993</td>\n",
       "      <td>-0.863291</td>\n",
       "      <td>-0.010309</td>\n",
       "      <td>1.247203</td>\n",
       "      <td>0.237609</td>\n",
       "      <td>0.377436</td>\n",
       "      <td>-1.387024</td>\n",
       "      <td>...</td>\n",
       "      <td>-0.208038</td>\n",
       "      <td>-0.108300</td>\n",
       "      <td>0.005274</td>\n",
       "      <td>-0.190321</td>\n",
       "      <td>-1.175575</td>\n",
       "      <td>0.647376</td>\n",
       "      <td>-0.221929</td>\n",
       "      <td>0.062723</td>\n",
       "      <td>0.061458</td>\n",
       "      <td>123.50</td>\n",
       "    </tr>\n",
       "    <tr>\n",
       "      <td>4</td>\n",
       "      <td>2.0</td>\n",
       "      <td>-1.158233</td>\n",
       "      <td>0.877737</td>\n",
       "      <td>1.548718</td>\n",
       "      <td>0.403034</td>\n",
       "      <td>-0.407193</td>\n",
       "      <td>0.095921</td>\n",
       "      <td>0.592941</td>\n",
       "      <td>-0.270533</td>\n",
       "      <td>0.817739</td>\n",
       "      <td>...</td>\n",
       "      <td>0.408542</td>\n",
       "      <td>-0.009431</td>\n",
       "      <td>0.798278</td>\n",
       "      <td>-0.137458</td>\n",
       "      <td>0.141267</td>\n",
       "      <td>-0.206010</td>\n",
       "      <td>0.502292</td>\n",
       "      <td>0.219422</td>\n",
       "      <td>0.215153</td>\n",
       "      <td>69.99</td>\n",
       "    </tr>\n",
       "  </tbody>\n",
       "</table>\n",
       "<p>5 rows × 30 columns</p>\n",
       "</div>"
      ],
      "text/plain": [
       "   Time        V1        V2        V3        V4        V5        V6        V7  \\\n",
       "0   0.0 -1.359807 -0.072781  2.536347  1.378155 -0.338321  0.462388  0.239599   \n",
       "1   0.0  1.191857  0.266151  0.166480  0.448154  0.060018 -0.082361 -0.078803   \n",
       "2   1.0 -1.358354 -1.340163  1.773209  0.379780 -0.503198  1.800499  0.791461   \n",
       "3   1.0 -0.966272 -0.185226  1.792993 -0.863291 -0.010309  1.247203  0.237609   \n",
       "4   2.0 -1.158233  0.877737  1.548718  0.403034 -0.407193  0.095921  0.592941   \n",
       "\n",
       "         V8        V9  ...       V20       V21       V22       V23       V24  \\\n",
       "0  0.098698  0.363787  ...  0.251412 -0.018307  0.277838 -0.110474  0.066928   \n",
       "1  0.085102 -0.255425  ... -0.069083 -0.225775 -0.638672  0.101288 -0.339846   \n",
       "2  0.247676 -1.514654  ...  0.524980  0.247998  0.771679  0.909412 -0.689281   \n",
       "3  0.377436 -1.387024  ... -0.208038 -0.108300  0.005274 -0.190321 -1.175575   \n",
       "4 -0.270533  0.817739  ...  0.408542 -0.009431  0.798278 -0.137458  0.141267   \n",
       "\n",
       "        V25       V26       V27       V28  Amount  \n",
       "0  0.128539 -0.189115  0.133558 -0.021053  149.62  \n",
       "1  0.167170  0.125895 -0.008983  0.014724    2.69  \n",
       "2 -0.327642 -0.139097 -0.055353 -0.059752  378.66  \n",
       "3  0.647376 -0.221929  0.062723  0.061458  123.50  \n",
       "4 -0.206010  0.502292  0.219422  0.215153   69.99  \n",
       "\n",
       "[5 rows x 30 columns]"
      ]
     },
     "execution_count": 59,
     "metadata": {},
     "output_type": "execute_result"
    }
   ],
   "source": [
    "X.head()"
   ]
  },
  {
   "cell_type": "markdown",
   "metadata": {},
   "source": [
    "##### Train, Test Split\n",
    "It is important to create a train, test split on the data. This way we can train our model then evaluate its performance. By including the random_state parameter in the function the results of the models will be replicable."
   ]
  },
  {
   "cell_type": "code",
   "execution_count": 60,
   "metadata": {},
   "outputs": [],
   "source": [
    "from sklearn.model_selection import train_test_split\n",
    "X_train, X_test, y_train, y_test = train_test_split(X, y, test_size=0.2, random_state=42)\n"
   ]
  },
  {
   "cell_type": "markdown",
   "metadata": {},
   "source": [
    "##### Preproccessing\n",
    "Luckily, this dataset does not need much preproccessing. The only thing it really needs is to be scaled. By scaling the data we are ensuring that variation inside of features are being accounted for equally."
   ]
  },
  {
   "cell_type": "code",
   "execution_count": 61,
   "metadata": {},
   "outputs": [],
   "source": [
    "from sklearn import preprocessing\n",
    "X_train = preprocessing.scale(X_train)\n",
    "X_test = preprocessing.scale(X_test)\n"
   ]
  },
  {
   "cell_type": "markdown",
   "metadata": {},
   "source": [
    "##### Creating Logistic Regression Model"
   ]
  },
  {
   "cell_type": "code",
   "execution_count": 62,
   "metadata": {},
   "outputs": [],
   "source": [
    "from sklearn.linear_model import LogisticRegression\n",
    "logisticRegress = LogisticRegression(random_state = 42)\n",
    "logisticRegress.fit(X_train, y_train)\n",
    "y_score1 = logisticRegress.predict_proba(X_test)[:,1]"
   ]
  },
  {
   "cell_type": "markdown",
   "metadata": {},
   "source": [
    "##### Creating Decision Tree Model"
   ]
  },
  {
   "cell_type": "code",
   "execution_count": 63,
   "metadata": {},
   "outputs": [],
   "source": [
    "from sklearn import tree\n",
    "tree1 = tree.DecisionTreeClassifier(min_samples_leaf = 10, random_state = 42)\n",
    "tree1 = tree1.fit(X_train, y_train)\n",
    "y_score2 = tree1.predict_proba(X_test)[:,1]"
   ]
  },
  {
   "cell_type": "markdown",
   "metadata": {},
   "source": [
    "##### Creating Neural Network"
   ]
  },
  {
   "cell_type": "code",
   "execution_count": 64,
   "metadata": {},
   "outputs": [],
   "source": [
    "from sklearn.neural_network import MLPClassifier\n",
    "NeuralNet = MLPClassifier(solver='lbfgs', alpha=1e-5, hidden_layer_sizes=(5, 2), random_state=42)\n",
    "NeuralNet.fit(X_train, y_train)\n",
    "y_score3 = NeuralNet.predict(X_test)"
   ]
  },
  {
   "cell_type": "markdown",
   "metadata": {},
   "source": [
    "##### Evaluating our model\n",
    "In the cell's above, we defined and fit our models. Now to evaluate them run the code below. The first chart created is a precision recall curve. Precision asks, \"for all the things you guessed were positive, how many of them actually were?\" While recall asks, \"of all the things that were actually positive how many did you predict correctly?\" These two put together show the tradeoff between having few false negatives and few false positives. To find the best fitting model, we should look for the model with the largest area under the curve."
   ]
  },
  {
   "cell_type": "markdown",
   "metadata": {},
   "source": [
    "##### Logistic Regression Evaluation"
   ]
  },
  {
   "cell_type": "code",
   "execution_count": 65,
   "metadata": {},
   "outputs": [
    {
     "name": "stdout",
     "output_type": "stream",
     "text": [
      "average precision score: 0.756\n",
      "roc_auc_score: 0.975\n",
      "precision-recall AUC: 0.755\n",
      "\n"
     ]
    },
    {
     "data": {
      "text/plain": [
       "Text(0.5, 1.0, 'Precision-recall plot')"
      ]
     },
     "execution_count": 65,
     "metadata": {},
     "output_type": "execute_result"
    },
    {
     "data": {
      "image/png": "[encoded data removed]",
      "text/plain": [
       "<Figure size 432x288 with 1 Axes>"
      ]
     },
     "metadata": {
      "needs_background": "light"
     },
     "output_type": "display_data"
    },
    {
     "data": {
      "image/png": "[encoded data removed]",
      "text/plain": [
       "<Figure size 432x288 with 1 Axes>"
      ]
     },
     "metadata": {
      "needs_background": "light"
     },
     "output_type": "display_data"
    },
    {
     "data": {
      "image/png": "[encoded data removed]",
      "text/plain": [
       "<Figure size 432x288 with 1 Axes>"
      ]
     },
     "metadata": {
      "needs_background": "light"
     },
     "output_type": "display_data"
    }
   ],
   "source": [
    "from sklearn.metrics import precision_recall_curve\n",
    "from sklearn.metrics import plot_precision_recall_curve\n",
    "from sklearn.metrics import roc_auc_score, roc_curve, auc\n",
    "from sklearn.metrics import average_precision_score\n",
    "import matplotlib.pyplot as plt\n",
    "\n",
    "roc_things = []\n",
    "precision_recall_things = []\n",
    "\n",
    "roc_auc = roc_auc_score(y_test, y_score1)\n",
    "fpr, tpr, _ = roc_curve(y_test, y_score1)\n",
    "\n",
    "    \n",
    "precision, recall, thresholds = precision_recall_curve(y_test, y_score1)\n",
    "pr_auc = auc(recall, precision)\n",
    "\n",
    "\n",
    "print('average precision score: {:.3f}'.format(average_precision_score(y_test, y_score1)))\n",
    "print('roc_auc_score: {:.3f}'.format(roc_auc))\n",
    "print('precision-recall AUC: {:.3f}'.format(pr_auc))\n",
    "print()\n",
    "\n",
    "plot_precision_recall_curve(logisticRegress, X_test, y_test)\n",
    "\n",
    "roc_plt = plt.figure()\n",
    "lw = 4\n",
    "for roc_thing in roc_things:\n",
    "    fpr, tpr, label = roc_thing\n",
    "    plt.plot(fpr, tpr, lw=lw)\n",
    "plt.plot([0, 1], [0, 1], color='navy', lw=lw, linestyle='--')\n",
    "plt.title('ROC curve')\n",
    "          \n",
    "pr_plt = plt.figure()\n",
    "for pr_thing in precision_recall_things:\n",
    "    recall, precision, _, label = pr_thing\n",
    "    plt.plot(recall, precision, lw=lw)\n",
    "ratio = y_test[y_test].shape[0] / y_test.shape[0]\n",
    "plt.hlines(y=ratio, xmin=0, xmax=1, color='navy', lw=lw, linestyle='--') \n",
    "plt.title('Precision-recall plot')"
   ]
  },
  {
   "cell_type": "markdown",
   "metadata": {},
   "source": [
    "##### Decision Tree Evaluation"
   ]
  },
  {
   "cell_type": "code",
   "execution_count": 66,
   "metadata": {},
   "outputs": [
    {
     "name": "stdout",
     "output_type": "stream",
     "text": [
      "average precision score: 0.817\n",
      "roc_auc_score: 0.933\n",
      "precision-recall AUC: 0.855\n",
      "\n"
     ]
    },
    {
     "data": {
      "text/plain": [
       "Text(0.5, 1.0, 'Precision-recall plot')"
      ]
     },
     "execution_count": 66,
     "metadata": {},
     "output_type": "execute_result"
    },
    {
     "data": {
      "image/png": "[encoded data removed]",
      "text/plain": [
       "<Figure size 432x288 with 1 Axes>"
      ]
     },
     "metadata": {
      "needs_background": "light"
     },
     "output_type": "display_data"
    },
    {
     "data": {
      "image/png": "[encoded data removed]",
      "text/plain": [
       "<Figure size 432x288 with 1 Axes>"
      ]
     },
     "metadata": {
      "needs_background": "light"
     },
     "output_type": "display_data"
    },
    {
     "data": {
      "image/png": "[encoded data removed]",
      "text/plain": [
       "<Figure size 432x288 with 1 Axes>"
      ]
     },
     "metadata": {
      "needs_background": "light"
     },
     "output_type": "display_data"
    }
   ],
   "source": [
    "roc_things = []\n",
    "precision_recall_things = []\n",
    "\n",
    "roc_auc = roc_auc_score(y_test, y_score2)\n",
    "fpr, tpr, _ = roc_curve(y_test, y_score2)\n",
    "\n",
    "    \n",
    "precision, recall, thresholds = precision_recall_curve(y_test, y_score2)\n",
    "pr_auc = auc(recall, precision)\n",
    "\n",
    "\n",
    "print('average precision score: {:.3f}'.format(average_precision_score(y_test, y_score2)))\n",
    "print('roc_auc_score: {:.3f}'.format(roc_auc))\n",
    "print('precision-recall AUC: {:.3f}'.format(pr_auc))\n",
    "print()\n",
    "\n",
    "plot_precision_recall_curve(tree1, X_test, y_test)\n",
    "\n",
    "roc_plt = plt.figure()\n",
    "lw = 4\n",
    "for roc_thing in roc_things:\n",
    "    fpr, tpr, label = roc_thing\n",
    "    plt.plot(fpr, tpr, lw=lw)\n",
    "plt.plot([0, 1], [0, 1], color='navy', lw=lw, linestyle='--')\n",
    "plt.title('ROC curve')\n",
    "          \n",
    "pr_plt = plt.figure()\n",
    "for pr_thing in precision_recall_things:\n",
    "    recall, precision, _, label = pr_thing\n",
    "    plt.plot(recall, precision, lw=lw)\n",
    "ratio = y_test[y_test].shape[0] / y_test.shape[0]\n",
    "plt.hlines(y=ratio, xmin=0, xmax=1, color='navy', lw=lw, linestyle='--') \n",
    "plt.title('Precision-recall plot')"
   ]
  },
  {
   "cell_type": "code",
   "execution_count": 67,
   "metadata": {},
   "outputs": [
    {
     "name": "stdout",
     "output_type": "stream",
     "text": [
      "average precision score: 0.637\n",
      "roc_auc_score: 0.903\n",
      "precision-recall AUC: 0.798\n",
      "\n"
     ]
    },
    {
     "data": {
      "text/plain": [
       "Text(0.5, 1.0, 'Precision-recall plot')"
      ]
     },
     "execution_count": 67,
     "metadata": {},
     "output_type": "execute_result"
    },
    {
     "data": {
      "image/png": "[encoded data removed]",
      "text/plain": [
       "<Figure size 432x288 with 1 Axes>"
      ]
     },
     "metadata": {
      "needs_background": "light"
     },
     "output_type": "display_data"
    },
    {
     "data": {
      "image/png": "[encoded data removed]",
      "text/plain": [
       "<Figure size 432x288 with 1 Axes>"
      ]
     },
     "metadata": {
      "needs_background": "light"
     },
     "output_type": "display_data"
    },
    {
     "data": {
      "image/png": "[encoded data removed]",
      "text/plain": [
       "<Figure size 432x288 with 1 Axes>"
      ]
     },
     "metadata": {
      "needs_background": "light"
     },
     "output_type": "display_data"
    }
   ],
   "source": [
    "roc_things = []\n",
    "precision_recall_things = []\n",
    "\n",
    "roc_auc = roc_auc_score(y_test, y_score3)\n",
    "fpr, tpr, _ = roc_curve(y_test, y_score3)\n",
    "\n",
    "    \n",
    "precision, recall, thresholds = precision_recall_curve(y_test, y_score3)\n",
    "pr_auc = auc(recall, precision)\n",
    "\n",
    "\n",
    "print('average precision score: {:.3f}'.format(average_precision_score(y_test, y_score3)))\n",
    "print('roc_auc_score: {:.3f}'.format(roc_auc))\n",
    "print('precision-recall AUC: {:.3f}'.format(pr_auc))\n",
    "print()\n",
    "\n",
    "plot_precision_recall_curve(NeuralNet, X_test, y_test)\n",
    "\n",
    "roc_plt = plt.figure()\n",
    "lw = 4\n",
    "for roc_thing in roc_things:\n",
    "    fpr, tpr, label = roc_thing\n",
    "    plt.plot(fpr, tpr, lw=lw)\n",
    "plt.plot([0, 1], [0, 1], color='navy', lw=lw, linestyle='--')\n",
    "plt.title('ROC curve')\n",
    "          \n",
    "pr_plt = plt.figure()\n",
    "for pr_thing in precision_recall_things:\n",
    "    recall, precision, _, label = pr_thing\n",
    "    plt.plot(recall, precision, lw=lw)\n",
    "ratio = y_test[y_test].shape[0] / y_test.shape[0]\n",
    "plt.hlines(y=ratio, xmin=0, xmax=1, color='navy', lw=lw, linestyle='--') \n",
    "plt.title('Precision-recall plot')"
   ]
  },
  {
   "cell_type": "markdown",
   "metadata": {},
   "source": [
    "##### Optimize F1\n",
    "Last, the model that performed the best in terms of precision recall was the decision tree. In order to find F1 score of the Random Forest we can run the code below. The F1 score is just a weighted average of the precision and recall. It attempts to find a balance between precision and recall."
   ]
  },
  {
   "cell_type": "code",
   "execution_count": 69,
   "metadata": {},
   "outputs": [
    {
     "name": "stdout",
     "output_type": "stream",
     "text": [
      "threshold that optimizes f1: 0.4\n"
     ]
    }
   ],
   "source": [
    "from scipy.stats import hmean\n",
    "import numpy.ma as ma\n",
    "\n",
    "precision, recall, thresholds = precision_recall_curve(y_test, y_score2)\n",
    "\n",
    "# make a 2D numpy array out of our recall and precision values\n",
    "a = np.column_stack((recall,precision))\n",
    "\n",
    "# harmonic mean is only valid for values greater than 0.\n",
    "# \"mask\" out any rows with values less than or equal to 0\n",
    "# https://docs.scipy.org/doc/numpy/reference/maskedarray.generic.html\n",
    "# https://docs.scipy.org/doc/numpy/reference/generated/numpy.ma.mask_rows.html\n",
    "a = ma.masked_less_equal(a, 0)\n",
    "a = ma.mask_rows(a)\n",
    "f1 = hmean(a,axis=1)\n",
    "\n",
    "# np.argmax returns the index of the largest value in an array. This will map to the threshold array that\n",
    "# was associated with the precision and recall which generated that \"best F1 score\"\n",
    "# I'm sure there's a better way to do the above, but IDK I'm a noob\n",
    "threshold_that_maximizes_f1 = thresholds[np.argmax(f1)]\n",
    "print('threshold that optimizes f1: {}'.format(threshold_that_maximizes_f1))"
   ]
  }
 ],
 "metadata": {
  "kernelspec": {
   "display_name": "Python 3",
   "language": "python",
   "name": "python3"
  },
  "language_info": {
   "codemirror_mode": {
    "name": "ipython",
    "version": 3
   },
   "file_extension": ".py",
   "mimetype": "text/x-python",
   "name": "python",
   "nbconvert_exporter": "python",
   "pygments_lexer": "ipython3",
   "version": "3.7.4"
  }
 },
 "nbformat": 4,
 "nbformat_minor": 2
}
